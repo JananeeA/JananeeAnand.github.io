{
 "cells": [
  {
   "cell_type": "code",
   "execution_count": null,
   "metadata": {},
   "outputs": [],
   "source": [
    "a=                                                      \n",
    "b=300\n",
    "if b>a:\n",
    "    print(\"B is big\")\n",
    "elif a==b:\n",
    "    print(\"both are equal\")\n"
   ]
  }
 ],
 "metadata": {
  "language_info": {
   "name": "python"
  }
 },
 "nbformat": 4,
 "nbformat_minor": 2
}
